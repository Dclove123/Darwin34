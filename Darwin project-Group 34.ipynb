{
 "cells": [
  {
   "cell_type": "markdown",
   "metadata": {},
   "source": [
    "<h1><center>Darwin project-Group 34 </center></h1>"
   ]
  },
  {
   "cell_type": "markdown",
   "metadata": {},
   "source": [
    "abstract:\n",
    "1.\tThere are 13 features in the raw dataset, including the year and month of the outbreak, the state, the genus species of the bacteria, the contaminated ingredient, the food vehicle, and numbers of illnesses, deaths, and hospitalizations caused by the outbreak.\n",
    "2.\tWe want to predict the number of illnesses that the foodborne outbreak may cause.\n",
    "3.\tWe follow the Darwin supervised classification model thechnique.\n"
   ]
  },
  {
   "cell_type": "markdown",
   "metadata": {},
   "source": [
    "## Import libraries"
   ]
  },
  {
   "cell_type": "code",
   "execution_count": 2,
   "metadata": {
    "scrolled": true
   },
   "outputs": [],
   "source": [
    "# Import necessary libraries\n",
    "import warnings\n",
    "warnings.filterwarnings(\"ignore\", message=\"numpy.dtype size changed\")\n",
    "%matplotlib inline\n",
    "import matplotlib.pyplot as plt\n",
    "import pandas as pd\n",
    "from IPython.display import Image\n",
    "from time import sleep\n",
    "import os\n",
    "import numpy as np\n",
    "from sklearn.metrics import classification_report\n",
    "\n",
    "from amb_sdk.sdk import DarwinSdk"
   ]
  },
  {
   "cell_type": "markdown",
   "metadata": {},
   "source": [
    "## Setup"
   ]
  },
  {
   "cell_type": "markdown",
   "metadata": {},
   "source": [
    "**Login to Darwin**<br>\n"
   ]
  },
  {
   "cell_type": "code",
   "execution_count": 6,
   "metadata": {},
   "outputs": [],
   "source": [
    "# Login\n",
    "\n",
    "ds = DarwinSdk()\n",
    "\n",
    "ds.set_url('https://amb-demo-api.sparkcognition.com/v1/')\n",
    "\n",
    "status, msg = ds.auth_login_user('ziqichina@outlook.com', 'PXkNucE5VZ')\n",
    "\n",
    "if not status:\n",
    "    print(msg)"
   ]
  },
  {
   "cell_type": "markdown",
   "metadata": {},
   "source": [
    "## Data Upload and Clean"
   ]
  },
  {
   "cell_type": "markdown",
   "metadata": {},
   "source": [
    "**Read dataset and view a file snippet**"
   ]
  },
  {
   "cell_type": "code",
   "execution_count": 4,
   "metadata": {},
   "outputs": [
    {
     "data": {
      "text/html": [
       "<div>\n",
       "<style scoped>\n",
       "    .dataframe tbody tr th:only-of-type {\n",
       "        vertical-align: middle;\n",
       "    }\n",
       "\n",
       "    .dataframe tbody tr th {\n",
       "        vertical-align: top;\n",
       "    }\n",
       "\n",
       "    .dataframe thead th {\n",
       "        text-align: right;\n",
       "    }\n",
       "</style>\n",
       "<table border=\"1\" class=\"dataframe\">\n",
       "  <thead>\n",
       "    <tr style=\"text-align: right;\">\n",
       "      <th></th>\n",
       "      <th>year</th>\n",
       "      <th>month</th>\n",
       "      <th>illnesses</th>\n",
       "      <th>deaths</th>\n",
       "      <th>hospitalizations</th>\n",
       "      <th>state</th>\n",
       "      <th>genus_species</th>\n",
       "      <th>contaminated_ingredient</th>\n",
       "      <th>serotype_or_genotype</th>\n",
       "      <th>etiology_status</th>\n",
       "      <th>location_of_preparation</th>\n",
       "      <th>food_vehicle</th>\n",
       "    </tr>\n",
       "  </thead>\n",
       "  <tbody>\n",
       "    <tr>\n",
       "      <th>0</th>\n",
       "      <td>2001</td>\n",
       "      <td>5</td>\n",
       "      <td>27</td>\n",
       "      <td>NaN</td>\n",
       "      <td>NaN</td>\n",
       "      <td>Florida</td>\n",
       "      <td>NaN</td>\n",
       "      <td>NaN</td>\n",
       "      <td>NaN</td>\n",
       "      <td>NaN</td>\n",
       "      <td>Restaurant - other or unknown type; School/col...</td>\n",
       "      <td>poultry, unspecified</td>\n",
       "    </tr>\n",
       "    <tr>\n",
       "      <th>1</th>\n",
       "      <td>2015</td>\n",
       "      <td>5</td>\n",
       "      <td>2</td>\n",
       "      <td>0.0</td>\n",
       "      <td>0.0</td>\n",
       "      <td>California</td>\n",
       "      <td>NaN</td>\n",
       "      <td>NaN</td>\n",
       "      <td>NaN</td>\n",
       "      <td>NaN</td>\n",
       "      <td>Restaurant - Sit-down dining</td>\n",
       "      <td>NaN</td>\n",
       "    </tr>\n",
       "    <tr>\n",
       "      <th>2</th>\n",
       "      <td>2014</td>\n",
       "      <td>11</td>\n",
       "      <td>6</td>\n",
       "      <td>0.0</td>\n",
       "      <td>0.0</td>\n",
       "      <td>Connecticut</td>\n",
       "      <td>Norovirus Genogroup II</td>\n",
       "      <td>NaN</td>\n",
       "      <td>other</td>\n",
       "      <td>Confirmed</td>\n",
       "      <td>Other (describe in remarks)</td>\n",
       "      <td>NaN</td>\n",
       "    </tr>\n",
       "    <tr>\n",
       "      <th>3</th>\n",
       "      <td>2002</td>\n",
       "      <td>7</td>\n",
       "      <td>2</td>\n",
       "      <td>0.0</td>\n",
       "      <td>0.0</td>\n",
       "      <td>Alabama</td>\n",
       "      <td>NaN</td>\n",
       "      <td>NaN</td>\n",
       "      <td>NaN</td>\n",
       "      <td>NaN</td>\n",
       "      <td>Restaurant - other or unknown type</td>\n",
       "      <td>ground beef, cheeseburger</td>\n",
       "    </tr>\n",
       "    <tr>\n",
       "      <th>4</th>\n",
       "      <td>2005</td>\n",
       "      <td>2</td>\n",
       "      <td>3</td>\n",
       "      <td>0.0</td>\n",
       "      <td>0.0</td>\n",
       "      <td>Kansas</td>\n",
       "      <td>NaN</td>\n",
       "      <td>NaN</td>\n",
       "      <td>NaN</td>\n",
       "      <td>NaN</td>\n",
       "      <td>Private home/residence</td>\n",
       "      <td>deli meat, sliced ham</td>\n",
       "    </tr>\n",
       "  </tbody>\n",
       "</table>\n",
       "</div>"
      ],
      "text/plain": [
       "   year  month  illnesses  deaths  hospitalizations        state  \\\n",
       "0  2001      5         27     NaN               NaN      Florida   \n",
       "1  2015      5          2     0.0               0.0   California   \n",
       "2  2014     11          6     0.0               0.0  Connecticut   \n",
       "3  2002      7          2     0.0               0.0      Alabama   \n",
       "4  2005      2          3     0.0               0.0       Kansas   \n",
       "\n",
       "            genus_species contaminated_ingredient serotype_or_genotype  \\\n",
       "0                     NaN                     NaN                  NaN   \n",
       "1                     NaN                     NaN                  NaN   \n",
       "2  Norovirus Genogroup II                     NaN                other   \n",
       "3                     NaN                     NaN                  NaN   \n",
       "4                     NaN                     NaN                  NaN   \n",
       "\n",
       "  etiology_status                            location_of_preparation  \\\n",
       "0             NaN  Restaurant - other or unknown type; School/col...   \n",
       "1             NaN                       Restaurant - Sit-down dining   \n",
       "2       Confirmed                        Other (describe in remarks)   \n",
       "3             NaN                 Restaurant - other or unknown type   \n",
       "4             NaN                             Private home/residence   \n",
       "\n",
       "                food_vehicle  \n",
       "0       poultry, unspecified  \n",
       "1                        NaN  \n",
       "2                        NaN  \n",
       "3  ground beef, cheeseburger  \n",
       "4      deli meat, sliced ham  "
      ]
     },
     "execution_count": 4,
     "metadata": {},
     "output_type": "execute_result"
    }
   ],
   "source": [
    "df = pd.read_csv('export_train.csv')\n",
    "df.head()"
   ]
  },
  {
   "cell_type": "markdown",
   "metadata": {},
   "source": [
    "**Upload dataset to Darwin**"
   ]
  },
  {
   "cell_type": "code",
   "execution_count": 5,
   "metadata": {
    "scrolled": true
   },
   "outputs": [
    {
     "name": "stdout",
     "output_type": "stream",
     "text": [
      "400: BAD REQUEST - {\"message\": \"Dataset already exists\"}\n",
      "\n"
     ]
    }
   ],
   "source": [
    "# Upload dataset\n",
    "#ds.delete_all_datasets()\n",
    "status, dataset = ds.upload_dataset('export_train.csv','outbreak_train')\n",
    "if not status:\n",
    "    print(dataset)"
   ]
  },
  {
   "cell_type": "markdown",
   "metadata": {},
   "source": [
    "**Clean dataset**<br>\n",
    "we decide to set the max_unique_values to 200 for the raw dataset has too many different category of certain feature, for example, the genus_species and location_of_preparation are very diverse;<br>\n",
    "And for the dataset has almost 20000 records and the limited amount of features we have, larger max_unique_values can avoid the model created drop too many features"
   ]
  },
  {
   "cell_type": "code",
   "execution_count": 5,
   "metadata": {},
   "outputs": [
    {
     "data": {
      "text/plain": [
       "(True,\n",
       " {'job_name': 'be1b23b6637a496bbce1fcb307b89cce',\n",
       "  'artifact_name': 'f1434c25095e4ae09ff71fb896dfe03b'})"
      ]
     },
     "execution_count": 5,
     "metadata": {},
     "output_type": "execute_result"
    }
   ],
   "source": [
    "ds.analyze_data('outbreak_train',max_unique_values=200)\n"
   ]
  },
  {
   "cell_type": "code",
   "execution_count": 8,
   "metadata": {},
   "outputs": [
    {
     "data": {
      "text/plain": [
       "(True,                    col_name num_uniques                  mean  \\\n",
       " 0                      year          18    2005.5480856405607   \n",
       " 1                     month          12     6.444103493967501   \n",
       " 2                 illnesses         289    19.400097635818398   \n",
       " 3                    deaths          10  0.021155830753353973   \n",
       " 4          hospitalizations          52    0.9329200034444157   \n",
       " 5                     state          55                  None   \n",
       " 6             genus_species         183                  None   \n",
       " 7   contaminated_ingredient         291                  None   \n",
       " 8      serotype_or_genotype         217                  None   \n",
       " 9           etiology_status          19                  None   \n",
       " 10  location_of_preparation         196                  None   \n",
       " 11             food_vehicle        2419                  None   \n",
       " \n",
       "                 stddev   min   max     col_type   missing  \\\n",
       " 0    5.153939341365022  1998  2015  IntegerType  0.000000   \n",
       " 1   3.4400992646911583     1    12  IntegerType  0.000000   \n",
       " 2     49.8894758633063     2  1939  IntegerType  0.000000   \n",
       " 3    0.416895650971941     0    33  IntegerType  0.189065   \n",
       " 4    5.425605784587768     0   308  IntegerType  0.190111   \n",
       " 5                 None  None  None   StringType  0.000000   \n",
       " 6                 None  None  None   StringType  0.346258   \n",
       " 7                 None  None  None   StringType  0.902155   \n",
       " 8                 None  None  None   StringType  0.793709   \n",
       " 9                 None  None  None   StringType  0.346258   \n",
       " 10                None  None  None   StringType  0.060325   \n",
       " 11                None  None  None   StringType  0.469001   \n",
       " \n",
       "    num_with_str_outlier scalable is_cat notes   drop target  \\\n",
       " 0                 False     True  False        False  False   \n",
       " 1                 False    False   True        False  False   \n",
       " 2                 False     True  False        False  False   \n",
       " 3                 False    False   True        False  False   \n",
       " 4                 False     True  False        False  False   \n",
       " 5                 False    False   True        False  False   \n",
       " 6                 False    False   True        False  False   \n",
       " 7                 False    False   True         True  False   \n",
       " 8                 False    False   True         True  False   \n",
       " 9                 False    False   True        False  False   \n",
       " 10                False    False   True        False  False   \n",
       " 11                False    False   True         True  False   \n",
       " \n",
       "                                               uniques  \n",
       " 0   ['1998', '1999', '2000', '2001', '2002', '2003...  \n",
       " 1   ['1', '10', '11', '12', '2', '3', '4', '5', '6...  \n",
       " 2                                                None  \n",
       " 3   ['0', '1', '2', '21', '3', '33', '4', '5', '7'...  \n",
       " 4   ['0', '1', '10', '101', '108', '11', '12', '12...  \n",
       " 5   ['Alabama', 'Alaska', 'Arizona', 'Arkansas', '...  \n",
       " 6   ['Amnesic shellfish poison', 'Anisakis', 'Astr...  \n",
       " 7                                                None  \n",
       " 8                                                None  \n",
       " 9   ['Confirmed', 'Confirmed; Confirmed', 'Confirm...  \n",
       " 10  ['\"Restaurant - \"\"Fast-food\"\"(drive up service...  \n",
       " 11                                               None  )"
      ]
     },
     "execution_count": 8,
     "metadata": {},
     "output_type": "execute_result"
    }
   ],
   "source": [
    "ds.download_artifact('f1434c25095e4ae09ff71fb896dfe03b')\n"
   ]
  },
  {
   "cell_type": "code",
   "execution_count": 11,
   "metadata": {},
   "outputs": [
    {
     "name": "stdout",
     "output_type": "stream",
     "text": [
      "{'status': 'Taken', 'starttime': '2019-04-22T10:02:26.667498', 'endtime': None, 'percent_complete': 0, 'job_type': 'CleanDataTiny', 'loss': None, 'generations': None, 'dataset_names': ['outbreak_train'], 'artifact_names': ['de66c2d8540f4448a378431851f1ff56'], 'model_name': None, 'job_error': None}\n",
      "{'status': 'Running', 'starttime': '2019-04-22T10:02:26.667498', 'endtime': None, 'percent_complete': 0, 'job_type': 'CleanDataTiny', 'loss': None, 'generations': None, 'dataset_names': ['outbreak_train'], 'artifact_names': ['de66c2d8540f4448a378431851f1ff56'], 'model_name': None, 'job_error': ''}\n",
      "{'status': 'Complete', 'starttime': '2019-04-22T10:02:26.667498', 'endtime': '2019-04-22T10:02:48.756096', 'percent_complete': 100, 'job_type': 'CleanDataTiny', 'loss': None, 'generations': None, 'dataset_names': ['outbreak_train'], 'artifact_names': ['de66c2d8540f4448a378431851f1ff56'], 'model_name': None, 'job_error': ''}\n"
     ]
    }
   ],
   "source": [
    "# clean dataset\n",
    "\n",
    "target = 'illnesses'\n",
    "status, job_id = ds.clean_data('outbreak_train', target = target, max_unique_values=200)\n",
    "\n",
    "if status:\n",
    "    ds.wait_for_job(job_id['job_name'])\n",
    "else:\n",
    "    print(job_id)\n"
   ]
  },
  {
   "cell_type": "markdown",
   "metadata": {},
   "source": [
    "## Create and Train Model "
   ]
  },
  {
   "cell_type": "code",
   "execution_count": 15,
   "metadata": {
    "scrolled": true
   },
   "outputs": [
    {
     "name": "stdout",
     "output_type": "stream",
     "text": [
      "{'status': 'Requested', 'starttime': '2019-04-22T10:05:35.580147', 'endtime': None, 'percent_complete': 0, 'job_type': 'TrainModel', 'loss': None, 'generations': 0, 'dataset_names': ['outbreak_train'], 'artifact_names': None, 'model_name': 'illnesses_model', 'job_error': None}\n",
      "{'status': 'Running', 'starttime': '2019-04-22T10:05:35.580147', 'endtime': None, 'percent_complete': 5, 'job_type': 'TrainModel', 'loss': 0.6871739625930786, 'generations': 0, 'dataset_names': ['outbreak_train'], 'artifact_names': None, 'model_name': 'illnesses_model', 'job_error': ''}\n",
      "{'status': 'Running', 'starttime': '2019-04-22T10:05:35.580147', 'endtime': None, 'percent_complete': 5, 'job_type': 'TrainModel', 'loss': 0.6871739625930786, 'generations': 0, 'dataset_names': ['outbreak_train'], 'artifact_names': None, 'model_name': 'illnesses_model', 'job_error': ''}\n",
      "{'status': 'Running', 'starttime': '2019-04-22T10:05:35.580147', 'endtime': None, 'percent_complete': 20, 'job_type': 'TrainModel', 'loss': 0.6871739625930786, 'generations': 1, 'dataset_names': ['outbreak_train'], 'artifact_names': None, 'model_name': 'illnesses_model', 'job_error': ''}\n",
      "{'status': 'Running', 'starttime': '2019-04-22T10:05:35.580147', 'endtime': None, 'percent_complete': 20, 'job_type': 'TrainModel', 'loss': 0.6871739625930786, 'generations': 1, 'dataset_names': ['outbreak_train'], 'artifact_names': None, 'model_name': 'illnesses_model', 'job_error': ''}\n",
      "{'status': 'Running', 'starttime': '2019-04-22T10:05:35.580147', 'endtime': None, 'percent_complete': 20, 'job_type': 'TrainModel', 'loss': 0.6871739625930786, 'generations': 1, 'dataset_names': ['outbreak_train'], 'artifact_names': None, 'model_name': 'illnesses_model', 'job_error': ''}\n",
      "{'status': 'Running', 'starttime': '2019-04-22T10:05:35.580147', 'endtime': None, 'percent_complete': 42, 'job_type': 'TrainModel', 'loss': 0.6871739625930786, 'generations': 2, 'dataset_names': ['outbreak_train'], 'artifact_names': None, 'model_name': 'illnesses_model', 'job_error': ''}\n",
      "{'status': 'Running', 'starttime': '2019-04-22T10:05:35.580147', 'endtime': None, 'percent_complete': 42, 'job_type': 'TrainModel', 'loss': 0.6871739625930786, 'generations': 2, 'dataset_names': ['outbreak_train'], 'artifact_names': None, 'model_name': 'illnesses_model', 'job_error': ''}\n",
      "{'status': 'Running', 'starttime': '2019-04-22T10:05:35.580147', 'endtime': None, 'percent_complete': 42, 'job_type': 'TrainModel', 'loss': 0.6871739625930786, 'generations': 2, 'dataset_names': ['outbreak_train'], 'artifact_names': None, 'model_name': 'illnesses_model', 'job_error': ''}\n",
      "{'status': 'Running', 'starttime': '2019-04-22T10:05:35.580147', 'endtime': None, 'percent_complete': 42, 'job_type': 'TrainModel', 'loss': 0.6871739625930786, 'generations': 2, 'dataset_names': ['outbreak_train'], 'artifact_names': None, 'model_name': 'illnesses_model', 'job_error': ''}\n",
      "{'status': 'Complete', 'starttime': '2019-04-22T10:05:35.580147', 'endtime': '2019-04-22T10:08:03.877032', 'percent_complete': 100, 'job_type': 'TrainModel', 'loss': 0.6871739625930786, 'generations': 2, 'dataset_names': ['outbreak_train'], 'artifact_names': None, 'model_name': 'illnesses_model', 'job_error': ''}\n"
     ]
    }
   ],
   "source": [
    "model = 'illnesses' + \"_model\"\n",
    "status, job_id = ds.create_model(dataset_names ='outbreak_train', \\\n",
    "                                 model_name =  model, \\\n",
    "                                 max_train_time = '00:02')\n",
    "if status:\n",
    "    ds.wait_for_job(job_id['job_name'])\n",
    "else:\n",
    "    print(job_id)"
   ]
  },
  {
   "cell_type": "markdown",
   "metadata": {},
   "source": [
    "## Analyze Model\n",
    "Analyze model provides feature importance ranked by the model. <br> It indicates a general view of which features pose a bigger impact on the model"
   ]
  },
  {
   "cell_type": "code",
   "execution_count": 17,
   "metadata": {
    "scrolled": true
   },
   "outputs": [
    {
     "name": "stdout",
     "output_type": "stream",
     "text": [
      "{'status': 'Running', 'starttime': '2019-04-22T10:10:17.139776', 'endtime': None, 'percent_complete': 0, 'job_type': 'AnalyzeModel', 'loss': 0.6871739625930786, 'generations': 2, 'dataset_names': None, 'artifact_names': ['a1e3466e4c92421e9d2b9f5ac8a97276'], 'model_name': 'illnesses_model', 'job_error': ''}\n",
      "{'status': 'Complete', 'starttime': '2019-04-22T10:10:17.139776', 'endtime': '2019-04-22T10:10:28.929602', 'percent_complete': 100, 'job_type': 'AnalyzeModel', 'loss': 0.6871739625930786, 'generations': 2, 'dataset_names': None, 'artifact_names': ['a1e3466e4c92421e9d2b9f5ac8a97276'], 'model_name': 'illnesses_model', 'job_error': ''}\n"
     ]
    }
   ],
   "source": [
    "# Retrieve feature importance of built model\n",
    "status, artifact = ds.analyze_model('illnesses_model')\n",
    "sleep(1)\n",
    "if status:\n",
    "    ds.wait_for_job(artifact['job_name'])\n",
    "else:\n",
    "    print(artifact)\n"
   ]
  },
  {
   "cell_type": "markdown",
   "metadata": {},
   "source": [
    "Show the 10 most important features of the model."
   ]
  },
  {
   "cell_type": "code",
   "execution_count": 7,
   "metadata": {},
   "outputs": [
    {
     "data": {
      "text/plain": [
       "hospitalizations                                                                                                                                                                                                               0.487396\n",
       "location_of_preparation = Restaurant - Sit-down dining; Restaurant - other or unknown type; Private home/residence; Banquet Facility (food prepared and served on-site); Caterer (food prepared off-site from where served)    0.168040\n",
       "location_of_preparation = Prison/jail                                                                                                                                                                                          0.116354\n",
       "genus_species = Campylobacter jejuni                                                                                                                                                                                           0.045836\n",
       "location_of_preparation = School/college/university                                                                                                                                                                            0.033871\n",
       "genus_species = Scombroid toxin                                                                                                                                                                                                0.029453\n",
       "location_of_preparation = Restaurant - other or unknown type                                                                                                                                                                   0.015819\n",
       "year                                                                                                                                                                                                                           0.012602\n",
       "genus_species = Clostridium perfringens                                                                                                                                                                                        0.010652\n",
       "location_of_preparation = Caterer (food prepared off-site from where served)                                                                                                                                                   0.009503\n",
       "dtype: float64"
      ]
     },
     "execution_count": 7,
     "metadata": {},
     "output_type": "execute_result"
    }
   ],
   "source": [
    "status, feature_importance = ds.download_artifact('a1e3466e4c92421e9d2b9f5ac8a97276')\n",
    "feature_importance[:10]"
   ]
  },
  {
   "cell_type": "markdown",
   "metadata": {},
   "source": [
    "## Predictions\n",
    "**Perform model prediction on the the training dataset.**"
   ]
  },
  {
   "cell_type": "code",
   "execution_count": 19,
   "metadata": {
    "scrolled": true
   },
   "outputs": [
    {
     "name": "stdout",
     "output_type": "stream",
     "text": [
      "{'status': 'Running', 'starttime': '2019-04-22T10:13:42.349142', 'endtime': None, 'percent_complete': 0, 'job_type': 'RunModel', 'loss': 0.6871739625930786, 'generations': 2, 'dataset_names': ['outbreak_train'], 'artifact_names': ['61d894da8c944eebb138b5001c15e6a8'], 'model_name': 'illnesses_model', 'job_error': ''}\n",
      "{'status': 'Complete', 'starttime': '2019-04-22T10:13:42.349142', 'endtime': '2019-04-22T10:13:52.098534', 'percent_complete': 100, 'job_type': 'RunModel', 'loss': 0.6871739625930786, 'generations': 2, 'dataset_names': ['outbreak_train'], 'artifact_names': ['61d894da8c944eebb138b5001c15e6a8'], 'model_name': 'illnesses_model', 'job_error': ''}\n"
     ]
    },
    {
     "data": {
      "text/plain": [
       "(True, 'Job completed')"
      ]
     },
     "execution_count": 19,
     "metadata": {},
     "output_type": "execute_result"
    }
   ],
   "source": [
    "status, artifact =ds.run_model('outbreak_train','illnesses_model' )\n",
    "sleep(1)\n",
    "\n",
    "ds.wait_for_job(artifact['job_name'])"
   ]
  },
  {
   "cell_type": "markdown",
   "metadata": {},
   "source": [
    "Download predictions from Darwin's server."
   ]
  },
  {
   "cell_type": "code",
   "execution_count": 20,
   "metadata": {
    "scrolled": true
   },
   "outputs": [],
   "source": [
    "status, prediction = ds.download_artifact(artifact['artifact_name'])\n"
   ]
  },
  {
   "cell_type": "code",
   "execution_count": 21,
   "metadata": {},
   "outputs": [
    {
     "data": {
      "text/html": [
       "<div>\n",
       "<style scoped>\n",
       "    .dataframe tbody tr th:only-of-type {\n",
       "        vertical-align: middle;\n",
       "    }\n",
       "\n",
       "    .dataframe tbody tr th {\n",
       "        vertical-align: top;\n",
       "    }\n",
       "\n",
       "    .dataframe thead th {\n",
       "        text-align: right;\n",
       "    }\n",
       "</style>\n",
       "<table border=\"1\" class=\"dataframe\">\n",
       "  <thead>\n",
       "    <tr style=\"text-align: right;\">\n",
       "      <th></th>\n",
       "      <th>illnesses</th>\n",
       "    </tr>\n",
       "  </thead>\n",
       "  <tbody>\n",
       "    <tr>\n",
       "      <th>0</th>\n",
       "      <td>15.741644</td>\n",
       "    </tr>\n",
       "    <tr>\n",
       "      <th>1</th>\n",
       "      <td>8.914061</td>\n",
       "    </tr>\n",
       "    <tr>\n",
       "      <th>2</th>\n",
       "      <td>22.718452</td>\n",
       "    </tr>\n",
       "    <tr>\n",
       "      <th>3</th>\n",
       "      <td>8.234464</td>\n",
       "    </tr>\n",
       "    <tr>\n",
       "      <th>4</th>\n",
       "      <td>11.640408</td>\n",
       "    </tr>\n",
       "  </tbody>\n",
       "</table>\n",
       "</div>"
      ],
      "text/plain": [
       "   illnesses\n",
       "0  15.741644\n",
       "1   8.914061\n",
       "2  22.718452\n",
       "3   8.234464\n",
       "4  11.640408"
      ]
     },
     "execution_count": 21,
     "metadata": {},
     "output_type": "execute_result"
    }
   ],
   "source": [
    "prediction.head()"
   ]
  },
  {
   "cell_type": "markdown",
   "metadata": {},
   "source": [
    "Create plots comparing predictions with actual target.<br>\n",
    "x-axis represents the actual data; y-axis represents the prediction."
   ]
  },
  {
   "cell_type": "code",
   "execution_count": 37,
   "metadata": {},
   "outputs": [
    {
     "data": {
      "image/png": "[encoded data removed]",
      "text/plain": [
       "<Figure size 432x288 with 1 Axes>"
      ]
     },
     "metadata": {
      "needs_background": "light"
     },
     "output_type": "display_data"
    }
   ],
   "source": [
    "x=df[target]\n",
    "y=prediction[target]\n",
    "fig, ax1 = plt.subplots()\n",
    "ax1.scatter(x,y)\n",
    "ax1.plot([x.min(), x.max()], [x.min(), x.max()], 'k--', lw=4)\n",
    "plt.show()"
   ]
  },
  {
   "cell_type": "markdown",
   "metadata": {},
   "source": [
    "since our target 'illnesses' is not categorical but numerical, we bin the actual target value and the prediction in order to show the classification report(precision,f1-score,etc). <br>\n",
    "we decide to bin the data by percentile, if the datapoint is falled into 0-25% of its all set, it is labeled as \"0\", 25-50% as '1', 50-75% as '2', 75-100% as '3'.<br>\n",
    "then we turn the 'illnesses' into 4 categories and can run the classidication report."
   ]
  },
  {
   "cell_type": "code",
   "execution_count": 22,
   "metadata": {},
   "outputs": [
    {
     "name": "stdout",
     "output_type": "stream",
     "text": [
      "[3.0, 8.0, 19.0] [9.0345277786, 15.5758180618, 22.1971893311]\n"
     ]
    }
   ],
   "source": [
    "#percentile of actual illiness\n",
    "percentile_x=[]\n",
    "percentile_y=[]\n",
    "for i in [25,50,75]:\n",
    "    percentile_x.append(np.percentile(x,i))\n",
    "    percentile_y.append(np.percentile(y,i))\n",
    "\n",
    "print(percentile_x,percentile_y)\n",
    "\n",
    "percent_x=[]\n",
    "for a in x:\n",
    "    if (a<=percentile_x[0]):\n",
    "        percent_x.append(0)\n",
    "    elif (a>percentile_x[0]and a<=percentile_x[1]):\n",
    "        percent_x.append(1)\n",
    "    elif (a>percentile_x[1]and a<=percentile_x[2]):\n",
    "        percent_x.append(2)\n",
    "    else:\n",
    "         percent_x.append(3)\n",
    "\n",
    "percent_y=[]\n",
    "for b in y:\n",
    "    if (b<=percentile_y[0]):\n",
    "        percent_y.append(0)\n",
    "    elif (b>percentile_y[0]and b<=percentile_y[1]):\n",
    "        percent_y.append(1)\n",
    "    elif (b>percentile_y[1]and b<=percentile_y[2]):\n",
    "        percent_y.append(2)\n",
    "    else:\n",
    "         percent_y.append(3)\n"
   ]
  },
  {
   "cell_type": "code",
   "execution_count": 24,
   "metadata": {},
   "outputs": [
    {
     "name": "stdout",
     "output_type": "stream",
     "text": [
      "              precision    recall  f1-score   support\n",
      "\n",
      "           0       0.52      0.53      0.53      3702\n",
      "           1       0.36      0.34      0.35      3910\n",
      "           2       0.30      0.32      0.31      3166\n",
      "           3       0.56      0.55      0.56      3561\n",
      "\n",
      "   micro avg       0.44      0.44      0.44     14339\n",
      "   macro avg       0.43      0.43      0.43     14339\n",
      "weighted avg       0.44      0.44      0.44     14339\n",
      "\n"
     ]
    }
   ],
   "source": [
    "print(classification_report(percent_x, percent_y))"
   ]
  },
  {
   "cell_type": "markdown",
   "metadata": {},
   "source": [
    "**Perform model prediction on a test dataset that wasn't used in training.** <br>\n",
    "Upload test dataset"
   ]
  },
  {
   "cell_type": "code",
   "execution_count": 25,
   "metadata": {
    "scrolled": true
   },
   "outputs": [],
   "source": [
    "test_data = 'export_test.csv'\n",
    "status, dataset = ds.upload_dataset(test_data,'outbreak_test')\n",
    "if not status:\n",
    "    print(dataset)"
   ]
  },
  {
   "cell_type": "markdown",
   "metadata": {},
   "source": [
    "clean test data"
   ]
  },
  {
   "cell_type": "code",
   "execution_count": 29,
   "metadata": {},
   "outputs": [
    {
     "name": "stdout",
     "output_type": "stream",
     "text": [
      "{'status': 'Requested', 'starttime': '2019-04-22T10:19:44.495736', 'endtime': None, 'percent_complete': 0, 'job_type': 'CleanDataTiny', 'loss': None, 'generations': None, 'dataset_names': ['outbreak_test'], 'artifact_names': ['4ee3361ae4a64d0fab4c1499ebeb368d'], 'model_name': None, 'job_error': None}\n",
      "{'status': 'Complete', 'starttime': '2019-04-22T10:19:44.495736', 'endtime': '2019-04-22T10:19:51.397652', 'percent_complete': 100, 'job_type': 'CleanDataTiny', 'loss': None, 'generations': None, 'dataset_names': ['outbreak_test'], 'artifact_names': ['4ee3361ae4a64d0fab4c1499ebeb368d'], 'model_name': None, 'job_error': ''}\n"
     ]
    }
   ],
   "source": [
    "# clean test dataset\n",
    "status, job_id = ds.clean_data('outbreak_test', target = target, model_name = 'illnesses_model', max_unique_values=200)\n",
    "\n",
    "if status:\n",
    "    ds.wait_for_job(job_id['job_name'])\n",
    "else:\n",
    "    print(job_id)"
   ]
  },
  {
   "cell_type": "markdown",
   "metadata": {},
   "source": [
    "Run model on test dataset."
   ]
  },
  {
   "cell_type": "code",
   "execution_count": 30,
   "metadata": {
    "scrolled": true
   },
   "outputs": [
    {
     "name": "stdout",
     "output_type": "stream",
     "text": [
      "{'status': 'Running', 'starttime': '2019-04-22T10:21:03.784877', 'endtime': None, 'percent_complete': 0, 'job_type': 'RunModel', 'loss': 0.6871739625930786, 'generations': 2, 'dataset_names': ['outbreak_test'], 'artifact_names': ['4f94b4b34e2e457a97af3fa2ae0cc3b8'], 'model_name': 'illnesses_model', 'job_error': ''}\n",
      "{'status': 'Complete', 'starttime': '2019-04-22T10:21:03.784877', 'endtime': '2019-04-22T10:21:12.335231', 'percent_complete': 100, 'job_type': 'RunModel', 'loss': 0.6871739625930786, 'generations': 2, 'dataset_names': ['outbreak_test'], 'artifact_names': ['4f94b4b34e2e457a97af3fa2ae0cc3b8'], 'model_name': 'illnesses_model', 'job_error': ''}\n"
     ]
    },
    {
     "data": {
      "text/plain": [
       "(True, 'Job completed')"
      ]
     },
     "execution_count": 30,
     "metadata": {},
     "output_type": "execute_result"
    }
   ],
   "source": [
    "status, artifact = ds.run_model('outbreak_test','illnesses_model')\n",
    "sleep(1)\n",
    "ds.wait_for_job(artifact['job_name'])"
   ]
  },
  {
   "cell_type": "code",
   "execution_count": 31,
   "metadata": {},
   "outputs": [],
   "source": [
    "df_test = pd.read_csv('export_test.csv')\n",
    "status, prediction_test = ds.download_artifact(artifact['artifact_name'])"
   ]
  },
  {
   "cell_type": "markdown",
   "metadata": {},
   "source": [
    "Transfer numerical data into categorical as previous for training."
   ]
  },
  {
   "cell_type": "code",
   "execution_count": 32,
   "metadata": {},
   "outputs": [
    {
     "name": "stdout",
     "output_type": "stream",
     "text": [
      "[3.0, 8.0, 19.0] [9.0345277786, 15.5758180618, 22.1971893311]\n"
     ]
    }
   ],
   "source": [
    "percentile_xtest=[]\n",
    "percentile_ytest=[]\n",
    "for i in [25,50,75]:\n",
    "    percentile_xtest.append(np.percentile(x,i))\n",
    "    percentile_ytest.append(np.percentile(y,i))\n",
    "#percentile=\n",
    "print(percentile_x,percentile_y)\n",
    "\n",
    "percent_xtest=[]\n",
    "for a in xtest:\n",
    "    if (a<=percentile_xtest[0]):\n",
    "        percent_xtest.append(0)\n",
    "    elif (a>percentile_xtest[0]and a<=percentile_xtest[1]):\n",
    "        percent_xtest.append(1)\n",
    "    elif (a>percentile_xtest[1]and a<=percentile_xtest[2]):\n",
    "        percent_xtest.append(2)\n",
    "    else:\n",
    "         percent_xtest.append(3)\n",
    "\n",
    "percent_ytest=[]\n",
    "for b in ytest:\n",
    "    if (b<=percentile_ytest[0]):\n",
    "        percent_ytest.append(0)\n",
    "    elif (b>percentile_ytest[0]and b<=percentile_ytest[1]):\n",
    "        percent_ytest.append(1)\n",
    "    elif (b>percentile_ytest[1]and b<=percentile_ytest[2]):\n",
    "        percent_ytest.append(2)\n",
    "    else:\n",
    "         percent_ytest.append(3)\n"
   ]
  },
  {
   "cell_type": "markdown",
   "metadata": {},
   "source": [
    "Create plots comparing predictions with actual target\n",
    "x-axis represents the actual data; y-axis represents the prediction."
   ]
  },
  {
   "cell_type": "code",
   "execution_count": 35,
   "metadata": {},
   "outputs": [
    {
     "data": {
      "image/png": "[encoded data removed]",
      "text/plain": [
       "<Figure size 432x288 with 1 Axes>"
      ]
     },
     "metadata": {
      "needs_background": "light"
     },
     "output_type": "display_data"
    },
    {
     "name": "stdout",
     "output_type": "stream",
     "text": [
      "              precision    recall  f1-score   support\n",
      "\n",
      "           0       0.54      0.48      0.51      1257\n",
      "           1       0.34      0.36      0.35      1294\n",
      "           2       0.32      0.33      0.32      1074\n",
      "           3       0.55      0.56      0.56      1155\n",
      "\n",
      "   micro avg       0.43      0.43      0.43      4780\n",
      "   macro avg       0.44      0.43      0.44      4780\n",
      "weighted avg       0.44      0.43      0.44      4780\n",
      "\n"
     ]
    }
   ],
   "source": [
    "xtest=df_test[target]\n",
    "ytest=prediction_test[target]\n",
    "fig, ax2 = plt.subplots()\n",
    "ax2.scatter(xtest,ytest)\n",
    "ax2.plot([xtest.min(), xtest.max()], [xtest.min(), xtest.max()], 'k--', lw=4)\n",
    "plt.show()\n",
    "print(classification_report(percent_xtest, percent_ytest))"
   ]
  },
  {
   "cell_type": "markdown",
   "metadata": {},
   "source": [
    "## Find out which machine learning model did Darwin use:"
   ]
  },
  {
   "cell_type": "code",
   "execution_count": 36,
   "metadata": {},
   "outputs": [
    {
     "name": "stdout",
     "output_type": "stream",
     "text": [
      "{'type': 'XGBRegressor', 'parameters': {'base_score': 0.5, 'colsample_bylevel': 1, 'colsample_bytree': 1, 'gamma': 0, 'learning_rate': 0.1, 'max_delta_step': 0, 'max_depth': 3, 'min_child_weight': 1, 'n_estimators': 100, 'n_jobs': -1, 'reg_alpha': 0, 'reg_lambda': 1, 'scale_pos_weight': 1, 'subsample': 1.0}}\n"
     ]
    }
   ],
   "source": [
    "status, model_type = ds.lookup_model_name('illnesses_model')\n",
    "print(model_type['description']['best_genome'])"
   ]
  },
  {
   "cell_type": "markdown",
   "metadata": {},
   "source": [
    "## Final Outcome:"
   ]
  },
  {
   "cell_type": "markdown",
   "metadata": {},
   "source": [
    "1.Was the research complete? <br>\n",
    "Based on what we have, it research is complete.\n",
    "\n",
    "2.How well were the results analyzed to solve the problem?<br>\n",
    "However, the model isn't perfect according to the plot between the actual and predict data and the classification report; \n",
    "But we can tell from the analysis of the model that <br>\n",
    "hospitalizations;location_of_preparation;genus_species<br>\n",
    "are important features that may lead to illnesses from food outbreak, which lead us to put more attention to in the future. From those features, we can try to control and minimize the loss."
   ]
  },
  {
   "cell_type": "code",
   "execution_count": null,
   "metadata": {},
   "outputs": [],
   "source": []
  }
 ],
 "metadata": {
  "anaconda-cloud": {},
  "kernelspec": {
   "display_name": "Python 3",
   "language": "python",
   "name": "python3"
  },
  "language_info": {
   "codemirror_mode": {
    "name": "ipython",
    "version": 3
   },
   "file_extension": ".py",
   "mimetype": "text/x-python",
   "name": "python",
   "nbconvert_exporter": "python",
   "pygments_lexer": "ipython3",
   "version": "3.7.1"
  }
 },
 "nbformat": 4,
 "nbformat_minor": 2
}
